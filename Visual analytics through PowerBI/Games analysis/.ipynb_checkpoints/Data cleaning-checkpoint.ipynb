{
 "cells": [
  {
   "cell_type": "code",
   "execution_count": 1,
   "metadata": {},
   "outputs": [],
   "source": [
    "import pandas as pd"
   ]
  },
  {
   "cell_type": "code",
   "execution_count": 2,
   "metadata": {},
   "outputs": [
    {
     "name": "stdout",
     "output_type": "stream",
     "text": [
      "16719\n"
     ]
    }
   ],
   "source": [
    "df = pd.read_csv(\"Video_Games_Sales_as_at_22_Dec_2016.csv\")\n",
    "print(len(df))"
   ]
  },
  {
   "cell_type": "markdown",
   "metadata": {},
   "source": [
    "Data cleaning\n",
    "- Critic score\n",
    "- User score\n",
    "- Developer\n",
    "- Rating"
   ]
  },
  {
   "cell_type": "code",
   "execution_count": 3,
   "metadata": {},
   "outputs": [
    {
     "name": "stdout",
     "output_type": "stream",
     "text": [
      "6623\n",
      "6769\n",
      "2\n",
      "8582\n",
      "9129\n",
      "2\n"
     ]
    }
   ],
   "source": [
    "print(df[\"Developer\"].isnull().sum())\n",
    "df[\"Developer\"] = df[\"Developer\"].fillna(\"N/A\")\n",
    "\n",
    "print(df[\"Rating\"].isnull().sum())\n",
    "df[\"Rating\"] = df[\"Rating\"].fillna(\"N/A\")\n",
    "\n",
    "print(df[\"Name\"].isnull().sum())\n",
    "df[\"Name\"] = df[\"Name\"].fillna(\"N/A\")\n",
    "\n",
    "print(df[\"Critic_Score\"].isnull().sum())\n",
    "df[\"Critic_Score\"] = df[\"Critic_Score\"].fillna(\"N/A\")\n",
    "\n",
    "print(df[\"User_Score\"].isnull().sum())\n",
    "df[\"User_Score\"] = df[\"User_Score\"].fillna(\"N/A\")\n",
    "\n",
    "print(df[\"Genre\"].isnull().sum())\n",
    "df[\"Genre\"] = df[\"Genre\"].fillna(\"N/A\")"
   ]
  },
  {
   "cell_type": "code",
   "execution_count": 4,
   "metadata": {},
   "outputs": [],
   "source": [
    "df.to_csv(\"Clean_database_VGS.csv\",index=False)"
   ]
  },
  {
   "cell_type": "code",
   "execution_count": null,
   "metadata": {},
   "outputs": [],
   "source": []
  }
 ],
 "metadata": {
  "kernelspec": {
   "display_name": "Python 3",
   "language": "python",
   "name": "python3"
  },
  "language_info": {
   "codemirror_mode": {
    "name": "ipython",
    "version": 3
   },
   "file_extension": ".py",
   "mimetype": "text/x-python",
   "name": "python",
   "nbconvert_exporter": "python",
   "pygments_lexer": "ipython3",
   "version": "3.7.6"
  }
 },
 "nbformat": 4,
 "nbformat_minor": 4
}
